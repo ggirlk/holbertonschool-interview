{
 "cells": [
  {
   "cell_type": "code",
   "execution_count": 112,
   "metadata": {},
   "outputs": [],
   "source": [
    "def rain(walls):\n",
    "    \"\"\"\n",
    "    For a given a list of non-negative integers representing\n",
    "    the heights of walls with unit width 1 calculate how many\n",
    "    square units of water will be retained after it rains.\n",
    "\n",
    "    @walls: is a list of non-negative integers.\n",
    "    Return: Integer indicating total amount of rainwater retained.\n",
    "    *** Assume that the ends of the list (before index 0 and after index\n",
    "        walls[-1]) are not walls, meaning they will not retain water. ***\n",
    "        If the list is empty return 0.\n",
    "    \"\"\"\n",
    "    count = 0\n",
    "    for i in range(len(walls)):\n",
    "        if walls[i] == 0:\n",
    "            m = walls[i-1]\n",
    "            k = 1\n",
    "            for j in range(i, len(walls)-1):\n",
    "                if walls[j] == 0:\n",
    "                    k += 1\n",
    "                else:\n",
    "                    break\n",
    "            i = j\n",
    "            if (walls[i+1] < m):\n",
    "                count += k * walls[i+1]\n",
    "            else:\n",
    "                count += k * m\n",
    "\n",
    "    return count"
   ]
  },
  {
   "cell_type": "code",
   "execution_count": 113,
   "metadata": {},
   "outputs": [
    {
     "name": "stdout",
     "output_type": "stream",
     "text": [
      "6\n",
      "***********\n",
      "0\n"
     ]
    }
   ],
   "source": [
    "#!/usr/bin/python3\n",
    "\"\"\"\n",
    "0_main\n",
    "\"\"\"\n",
    "#rain = __import__('0-rain').rain\n",
    "\n",
    "if __name__ == \"__main__\":\n",
    "    walls = [0, 1, 0, 2, 0, 3, 0, 4]\n",
    "    print(rain(walls))\n",
    "    print(\"***********\")\n",
    "    walls = [2, 0, 0, 4, 0, 0, 1, 0]\n",
    "    print(rain(walls))"
   ]
  },
  {
   "cell_type": "code",
   "execution_count": null,
   "metadata": {},
   "outputs": [],
   "source": []
  },
  {
   "cell_type": "code",
   "execution_count": null,
   "metadata": {},
   "outputs": [],
   "source": []
  }
 ],
 "metadata": {
  "kernelspec": {
   "display_name": "Python 3",
   "language": "python",
   "name": "python3"
  },
  "language_info": {
   "codemirror_mode": {
    "name": "ipython",
    "version": 3
   },
   "file_extension": ".py",
   "mimetype": "text/x-python",
   "name": "python",
   "nbconvert_exporter": "python",
   "pygments_lexer": "ipython3",
   "version": "3.6.13"
  }
 },
 "nbformat": 4,
 "nbformat_minor": 4
}
