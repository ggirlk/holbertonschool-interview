{
 "cells": [
  {
   "cell_type": "code",
   "execution_count": 45,
   "metadata": {},
   "outputs": [],
   "source": [
    "import sys\n",
    "\n",
    "\n",
    "\n",
    "def makeChange(coins, total):\n",
    "    \"\"\"\n",
    "    ********************************************\n",
    "    ****determine the fewest number of coins****\n",
    "    *******needed to meet a given amount********\n",
    "    ********************************************\n",
    "    @coins: is a list of the values of the coins\n",
    "            in the possession\n",
    "    @total: given amount\n",
    "    Return:\n",
    "            fewest number of coins needed to meet total\n",
    "            *** If total is 0 or less, return 0\n",
    "            *** If total cannot be met by any number\n",
    "                of coins you have, return -1\n",
    "    \"\"\"\n",
    "    if total <= 0:\n",
    "        return 0\n",
    "\n",
    "    res = 0\n",
    "    for i in range(len(coins)):\n",
    "        if (coins[i] <= total):\n",
    "            sub_res = makeChange(coins, total-coins[i])\n",
    " \n",
    "            # Check for INT_MAX to avoid overflow and see if\n",
    "            # result can minimized\n",
    "            if (sub_res != sys.maxsize and sub_res + 1 < res):\n",
    "                res = sub_res + 1\n",
    "\n",
    "    return res"
   ]
  },
  {
   "cell_type": "code",
   "execution_count": 69,
   "metadata": {},
   "outputs": [],
   "source": [
    "import sys\n",
    "\n",
    "\n",
    "\n",
    "def makeChange(coins, total):\n",
    "    \"\"\"\n",
    "    ********************************************\n",
    "    ****determine the fewest number of coins****\n",
    "    *******needed to meet a given amount********\n",
    "    ********************************************\n",
    "    @coins: is a list of the values of the coins\n",
    "            in the possession\n",
    "    @total: given amount\n",
    "    Return:\n",
    "            fewest number of coins needed to meet total\n",
    "            *** If total is 0 or less, return 0\n",
    "            *** If total cannot be met by any number\n",
    "                of coins you have, return -1\n",
    "    \"\"\"\n",
    "    if total <= 0:\n",
    "        return 0\n",
    "\n",
    "    res = []\n",
    "    sub = [0]\n",
    "    for i in range(len(coins)):\n",
    "        if coins[i-1] + coins[i] + sub[i] > total:\n",
    "                return -1\n",
    "        else:\n",
    "            sub.append(coins[i-1] + coins[i])\n",
    "        res.append(total - (coins[i-1] + coins[i] + sub[i]))\n",
    "    return min(res)"
   ]
  },
  {
   "cell_type": "code",
   "execution_count": 70,
   "metadata": {},
   "outputs": [
    {
     "name": "stdout",
     "output_type": "stream",
     "text": [
      "7\n",
      "-1\n",
      "-1\n"
     ]
    }
   ],
   "source": [
    "print(makeChange([1, 2, 25], 37))\n",
    "\n",
    "print(makeChange([1256, 54, 48, 16, 102], 1453))\n",
    "\n",
    "print(makeChange([25, 10, 5], 30))"
   ]
  },
  {
   "cell_type": "code",
   "execution_count": 5,
   "metadata": {},
   "outputs": [
    {
     "data": {
      "text/plain": [
       "35"
      ]
     },
     "execution_count": 5,
     "metadata": {},
     "output_type": "execute_result"
    }
   ],
   "source": []
  },
  {
   "cell_type": "code",
   "execution_count": null,
   "metadata": {},
   "outputs": [],
   "source": []
  }
 ],
 "metadata": {
  "kernelspec": {
   "display_name": "Python 3",
   "language": "python",
   "name": "python3"
  },
  "language_info": {
   "codemirror_mode": {
    "name": "ipython",
    "version": 3
   },
   "file_extension": ".py",
   "mimetype": "text/x-python",
   "name": "python",
   "nbconvert_exporter": "python",
   "pygments_lexer": "ipython3",
   "version": "3.6.13"
  }
 },
 "nbformat": 4,
 "nbformat_minor": 4
}
