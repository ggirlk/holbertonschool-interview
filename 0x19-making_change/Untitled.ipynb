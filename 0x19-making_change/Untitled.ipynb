{
 "cells": [
  {
   "cell_type": "code",
   "execution_count": 45,
   "metadata": {},
   "outputs": [],
   "source": [
    "import sys\n",
    "\n",
    "\n",
    "\n",
    "def makeChange(coins, total):\n",
    "    \"\"\"\n",
    "    ********************************************\n",
    "    ****determine the fewest number of coins****\n",
    "    *******needed to meet a given amount********\n",
    "    ********************************************\n",
    "    @coins: is a list of the values of the coins\n",
    "            in the possession\n",
    "    @total: given amount\n",
    "    Return:\n",
    "            fewest number of coins needed to meet total\n",
    "            *** If total is 0 or less, return 0\n",
    "            *** If total cannot be met by any number\n",
    "                of coins you have, return -1\n",
    "    \"\"\"\n",
    "    if total <= 0:\n",
    "        return 0\n",
    "\n",
    "    res = 0\n",
    "    for i in range(len(coins)):\n",
    "        if (coins[i] <= total):\n",
    "            sub_res = makeChange(coins, total-coins[i])\n",
    " \n",
    "            # Check for INT_MAX to avoid overflow and see if\n",
    "            # result can minimized\n",
    "            if (sub_res != sys.maxsize and sub_res + 1 < res):\n",
    "                res = sub_res + 1\n",
    "\n",
    "    return res"
   ]
  },
  {
   "cell_type": "code",
   "execution_count": 188,
   "metadata": {},
   "outputs": [],
   "source": [
    "import sys\n",
    "\n",
    "\n",
    "\n",
    "def makeChange(coins, total):\n",
    "    \"\"\"\n",
    "    ********************************************\n",
    "    ****determine the fewest number of coins****\n",
    "    *******needed to meet a given amount********\n",
    "    ********************************************\n",
    "    @coins: is a list of the values of the coins\n",
    "            in the possession\n",
    "    @total: given amount\n",
    "    Return:\n",
    "            fewest number of coins needed to meet total\n",
    "            *** If total is 0 or less, return 0\n",
    "            *** If total cannot be met by any number\n",
    "                of coins you have, return -1\n",
    "    \"\"\"\n",
    "    if total <= 0:\n",
    "        return 0\n",
    "\n",
    "    res = []\n",
    "    sub = [0]\n",
    "    for i in range(len(coins)):\n",
    "        if coins[i-1] + coins[i] + sub[i] > total:\n",
    "                return -1\n",
    "        else:\n",
    "            if (coins[i-1] + coins[i] + sub[i] < total):\n",
    "                sub.append(coins[i-1] + coins[i])\n",
    "            else:\n",
    "                return -1\n",
    "        res.append(total - (coins[i-1] + coins[i]) - sub[i])\n",
    "    return min(res)"
   ]
  },
  {
   "cell_type": "code",
   "execution_count": 277,
   "metadata": {},
   "outputs": [],
   "source": [
    "import sys\n",
    "\n",
    "\n",
    "\n",
    "def makeChange(coins, total):\n",
    "    \"\"\"\n",
    "    ********************************************\n",
    "    ****determine the fewest number of coins****\n",
    "    *******needed to meet a given amount********\n",
    "    ********************************************\n",
    "    @coins: is a list of the values of the coins\n",
    "            in the possession\n",
    "    @total: given amount\n",
    "    Return:\n",
    "            fewest number of coins needed to meet total\n",
    "            *** If total is 0 or less, return 0\n",
    "            *** If total cannot be met by any number\n",
    "                of coins you have, return -1\n",
    "    \"\"\"\n",
    "    if total <= 0:\n",
    "        return 0\n",
    "\n",
    "    res = []\n",
    "    sub = []\n",
    "    for i in range(len(coins)):\n",
    "        sub.append((coins[i] + coins[i-1]))\n",
    "        if (total - sum(sub)) >= 0:\n",
    "            res.append(total - sum(sub) + 1)\n",
    "    try:\n",
    "        return min(res)\n",
    "    except:\n",
    "        return -1"
   ]
  },
  {
   "cell_type": "code",
   "execution_count": 278,
   "metadata": {},
   "outputs": [
    {
     "name": "stdout",
     "output_type": "stream",
     "text": [
      "[12, 9]\n",
      "9\n",
      "[96]\n",
      "96\n",
      "[1]\n",
      "1\n",
      "[6, 3]\n",
      "3\n"
     ]
    }
   ],
   "source": [
    "print(makeChange([1, 2, 25], 37))\n",
    "\n",
    "print(makeChange([1256, 54, 48, 16, 102], 1453))\n",
    "\n",
    "print(makeChange([1], 2))\n",
    "\n",
    "print(makeChange([1,2,5], 11))\n"
   ]
  },
  {
   "cell_type": "code",
   "execution_count": 270,
   "metadata": {},
   "outputs": [
    {
     "data": {
      "text/plain": [
       "4"
      ]
     },
     "execution_count": 270,
     "metadata": {},
     "output_type": "execute_result"
    }
   ],
   "source": [
    "11 - (5+2)"
   ]
  },
  {
   "cell_type": "code",
   "execution_count": 276,
   "metadata": {},
   "outputs": [
    {
     "data": {
      "text/plain": [
       "37"
      ]
     },
     "execution_count": 276,
     "metadata": {},
     "output_type": "execute_result"
    }
   ],
   "source": [
    "sum([1, 2, 25]) + 9"
   ]
  },
  {
   "cell_type": "code",
   "execution_count": 251,
   "metadata": {},
   "outputs": [
    {
     "data": {
      "text/plain": [
       "1"
      ]
     },
     "execution_count": 251,
     "metadata": {},
     "output_type": "execute_result"
    }
   ],
   "source": [
    "a = [1]\n",
    "a[-1]"
   ]
  },
  {
   "cell_type": "code",
   "execution_count": null,
   "metadata": {},
   "outputs": [],
   "source": []
  }
 ],
 "metadata": {
  "kernelspec": {
   "display_name": "Python 3",
   "language": "python",
   "name": "python3"
  },
  "language_info": {
   "codemirror_mode": {
    "name": "ipython",
    "version": 3
   },
   "file_extension": ".py",
   "mimetype": "text/x-python",
   "name": "python",
   "nbconvert_exporter": "python",
   "pygments_lexer": "ipython3",
   "version": "3.6.13"
  }
 },
 "nbformat": 4,
 "nbformat_minor": 4
}
