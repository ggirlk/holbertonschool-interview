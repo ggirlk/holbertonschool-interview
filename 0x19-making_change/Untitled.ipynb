{
 "cells": [
  {
   "cell_type": "code",
   "execution_count": 45,
   "metadata": {
    "jupyter": {
     "source_hidden": true
    }
   },
   "outputs": [],
   "source": [
    "import sys\n",
    "\n",
    "\n",
    "\n",
    "def makeChange(coins, total):\n",
    "    \"\"\"\n",
    "    ********************************************\n",
    "    ****determine the fewest number of coins****\n",
    "    *******needed to meet a given amount********\n",
    "    ********************************************\n",
    "    @coins: is a list of the values of the coins\n",
    "            in the possession\n",
    "    @total: given amount\n",
    "    Return:\n",
    "            fewest number of coins needed to meet total\n",
    "            *** If total is 0 or less, return 0\n",
    "            *** If total cannot be met by any number\n",
    "                of coins you have, return -1\n",
    "    \"\"\"\n",
    "    if total <= 0:\n",
    "        return 0\n",
    "\n",
    "    res = 0\n",
    "    for i in range(len(coins)):\n",
    "        if (coins[i] <= total):\n",
    "            sub_res = makeChange(coins, total-coins[i])\n",
    " \n",
    "            # Check for INT_MAX to avoid overflow and see if\n",
    "            # result can minimized\n",
    "            if (sub_res != sys.maxsize and sub_res + 1 < res):\n",
    "                res = sub_res + 1\n",
    "\n",
    "    return res"
   ]
  },
  {
   "cell_type": "code",
   "execution_count": 12,
   "metadata": {},
   "outputs": [],
   "source": [
    "import sys\n",
    "\n",
    "\n",
    "\n",
    "def makeChange(coins, total):\n",
    "    \"\"\"\n",
    "    ********************************************\n",
    "    ****determine the fewest number of coins****\n",
    "    *******needed to meet a given amount********\n",
    "    ********************************************\n",
    "    @coins: is a list of the values of the coins\n",
    "            in the possession\n",
    "    @total: given amount\n",
    "    Return:\n",
    "            fewest number of coins needed to meet total\n",
    "            *** If total is 0 or less, return 0\n",
    "            *** If total cannot be met by any number\n",
    "                of coins you have, return -1\n",
    "    \"\"\"\n",
    "    if total <= 0:\n",
    "        return 0\n",
    "\n",
    "    res = []\n",
    "    sub = [0]\n",
    "    #for i in range(len(coins)):\n",
    "    i = 0\n",
    "    while sum(sub) < total:\n",
    "        sub.append((coins[i] + coins[i-1]))\n",
    "        if (total - sum(sub)) >= 0:\n",
    "            res.append(total - sum(sub) + 1)\n",
    "        i += 1\n",
    "    print(res)\n",
    "    try:\n",
    "        return min(res)\n",
    "    except:\n",
    "        return -1"
   ]
  },
  {
   "cell_type": "code",
   "execution_count": 13,
   "metadata": {
    "jupyter": {
     "source_hidden": true
    }
   },
   "outputs": [],
   "source": [
    "#!/usr/bin/python3\n",
    "\"\"\"\n",
    "Change comes from within\n",
    "\"\"\"\n",
    "\n",
    "\n",
    "def minCoins(coins, m, V): \n",
    "    \"\"\" recursive \"\"\"\n",
    "    # base case \n",
    "    if (V == 0): \n",
    "        return 0\n",
    "\n",
    "    # Initialize result \n",
    "    res = sys.maxsize \n",
    "      \n",
    "    # Try every coin that has smaller value than V \n",
    "    for i in range(0, m): \n",
    "        if (coins[i] <= V): \n",
    "            sub_res = minCoins(coins, m, V-coins[i]) \n",
    "\n",
    "            # Check for INT_MAX to avoid overflow and see if \n",
    "            # result can minimized \n",
    "            if (sub_res != sys.maxsize and sub_res + 1 < res): \n",
    "                res = sub_res + 1\n",
    "\n",
    "    return res \n",
    "\n",
    "def makeChange(coins, total):\n",
    "    \"\"\"\n",
    "    ********************************************\n",
    "    ****determine the fewest number of coins****\n",
    "    *******needed to meet a given amount********\n",
    "    ********************************************\n",
    "    @coins: is a list of the values of the coins\n",
    "            in the possession\n",
    "    @total: given amount\n",
    "    Return:\n",
    "            fewest number of coins needed to meet total\n",
    "            *** If total is 0 or less, return 0\n",
    "            *** If total cannot be met by any number\n",
    "                of coins you have, return -1\n",
    "    \"\"\"\n",
    "    m = len(coins) \n",
    "\n",
    "    return minCoins(coins, m, total)\n"
   ]
  },
  {
   "cell_type": "code",
   "execution_count": 52,
   "metadata": {
    "jupyter": {
     "source_hidden": true
    }
   },
   "outputs": [],
   "source": [
    "\n",
    "def makeChange(coins, total):\n",
    "    \"\"\"\n",
    "    ********************************************\n",
    "    ****determine the fewest number of coins****\n",
    "    *******needed to meet a given amount********\n",
    "    ********************************************\n",
    "    @coins: is a list of the values of the coins\n",
    "            in the possession\n",
    "    @total: given amount\n",
    "    Return:\n",
    "            fewest number of coins needed to meet total\n",
    "            *** If total is 0 or less, return 0\n",
    "            *** If total cannot be met by any number\n",
    "                of coins you have, return -1\n",
    "    \"\"\"\n",
    "    if total <= 0:\n",
    "        return 0\n",
    "\n",
    "    res = []\n",
    "    sub = [0]\n",
    "    for i in range(len(coins)):\n",
    "        if coins[i-1] + coins[i] + sub[i] > total:\n",
    "                return -1\n",
    "        else:\n",
    "            if (coins[i-1] + coins[i] + sub[i] < total):\n",
    "                sub.append(coins[i-1] + coins[i])\n",
    "                res.append(total - (coins[i-1] + coins[i]) - sub[i])\n",
    "            else:\n",
    "                sub.append((coins[i] + coins[i-1]))\n",
    "                res.append(total - sum(sub) + 1)\n",
    "    return min(res)"
   ]
  },
  {
   "cell_type": "code",
   "execution_count": 173,
   "metadata": {},
   "outputs": [
    {
     "name": "stdout",
     "output_type": "stream",
     "text": [
      "1\n",
      "10\n",
      "2\n",
      "3\n"
     ]
    }
   ],
   "source": [
    "import sys\n",
    "\n",
    "def makeChange(coins, total):\n",
    "    \"\"\"\n",
    "    ********************************************\n",
    "    ****determine the fewest number of coins****\n",
    "    *******needed to meet a given amount********\n",
    "    ********************************************\n",
    "    @coins: is a list of the values of the coins\n",
    "            in the possession\n",
    "    @total: given amount\n",
    "    Return:\n",
    "            fewest number of coins needed to meet total\n",
    "            *** If total is 0 or less, return 0\n",
    "            *** If total cannot be met by any number\n",
    "                of coins you have, return -1\n",
    "    \"\"\"\n",
    "    if (type(total) is not int and total >= 10**4):\n",
    "        return -1\n",
    "    if total <= 0:\n",
    "        return 0\n",
    "\n",
    "    Min = [sys.maxsize for i in range(total+1)]\n",
    "    Min[0] = 0\n",
    "    for i in range(1, total+1):\n",
    "        for j in range(len(coins)):\n",
    "            if (coins[j] < 0 or coins[j] > sys.maxsize):\n",
    "                return -1\n",
    "            if coins[j] >= 1 and Min[i - coins[j]] + 1 < Min[i]:\n",
    "                Min[i] = Min[i - coins[j]] + 1\n",
    "    #print(Min)\n",
    "    if Min[total] <= total:\n",
    "        return Min[total]\n",
    "    else:\n",
    "        return -1\n",
    "\n",
    "print(makeChange([1], 1))\n",
    "print(makeChange([25, 3], 52))\n",
    "print(makeChange([1], 2))\n",
    "print(makeChange([1,2,5], 11))"
   ]
  },
  {
   "cell_type": "code",
   "execution_count": 160,
   "metadata": {
    "jupyter": {
     "source_hidden": true
    }
   },
   "outputs": [],
   "source": [
    "def makeChange(coins, total):\n",
    "    if total <= 0:\n",
    "        return 0\n",
    "    i = len(coins) - 1\n",
    "    coins.sort()\n",
    "    fewest = []\n",
    "    while i > -1:\n",
    "        fewest.append(coins[i])\n",
    "        if sum(fewest) == total:\n",
    "            return len(fewest)\n",
    "        if sum(fewest) < total:\n",
    "            i += 1\n",
    "        else:\n",
    "            fewest.pop()\n",
    "        i -= 1\n",
    "    return -1"
   ]
  },
  {
   "cell_type": "code",
   "execution_count": 174,
   "metadata": {},
   "outputs": [
    {
     "name": "stdout",
     "output_type": "stream",
     "text": [
      "7\n",
      "-1\n",
      "2\n",
      "3\n",
      "10\n",
      "1\n"
     ]
    }
   ],
   "source": [
    "print(makeChange([1, 2, 25], 37)) # => 7\n",
    "\n",
    "print(makeChange([1256, 54, 48, 16, 102], 1453)) # => -1\n",
    "\n",
    "print(makeChange([1], 2)) # => 2\n",
    "\n",
    "print(makeChange([1,2,5], 11)) # => 3\n",
    "\n",
    "print(makeChange([25, 3], 52)) # => 10\n",
    "\n",
    "print(makeChange([1], 1)) # => 1"
   ]
  },
  {
   "cell_type": "code",
   "execution_count": 270,
   "metadata": {},
   "outputs": [
    {
     "data": {
      "text/plain": [
       "4"
      ]
     },
     "execution_count": 270,
     "metadata": {},
     "output_type": "execute_result"
    }
   ],
   "source": [
    "11 - (5+2)"
   ]
  },
  {
   "cell_type": "code",
   "execution_count": 276,
   "metadata": {},
   "outputs": [
    {
     "data": {
      "text/plain": [
       "37"
      ]
     },
     "execution_count": 276,
     "metadata": {},
     "output_type": "execute_result"
    }
   ],
   "source": [
    "sum([1, 2, 25]) + 9"
   ]
  },
  {
   "cell_type": "code",
   "execution_count": null,
   "metadata": {},
   "outputs": [],
   "source": []
  }
 ],
 "metadata": {
  "kernelspec": {
   "display_name": "Python 3",
   "language": "python",
   "name": "python3"
  },
  "language_info": {
   "codemirror_mode": {
    "name": "ipython",
    "version": 3
   },
   "file_extension": ".py",
   "mimetype": "text/x-python",
   "name": "python",
   "nbconvert_exporter": "python",
   "pygments_lexer": "ipython3",
   "version": "3.6.13"
  }
 },
 "nbformat": 4,
 "nbformat_minor": 4
}
