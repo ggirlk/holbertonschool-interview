{
 "cells": [
  {
   "cell_type": "code",
   "execution_count": 1,
   "metadata": {},
   "outputs": [
    {
     "name": "stdout",
     "output_type": "stream",
     "text": [
      "\n",
      "========== 0-binary_tree_node.c ==========\n",
      "binary_tree_node\n"
     ]
    }
   ],
   "source": [
    "!betty 0-binary_tree_node.c"
   ]
  },
  {
   "cell_type": "code",
   "execution_count": 1,
   "metadata": {},
   "outputs": [],
   "source": [
    "!gcc -Wall -Wextra -Werror -pedantic binary_tree_print.c 0-main.c 0-binary_tree_node.c -o 0-node"
   ]
  },
  {
   "cell_type": "code",
   "execution_count": 3,
   "metadata": {},
   "outputs": [
    {
     "name": "stdout",
     "output_type": "stream",
     "text": [
      "       .-------(098)-------.\n",
      "  .--(012)--.         .--(402)--.\n",
      "(006)     (016)     (256)     (512)\n"
     ]
    }
   ],
   "source": [
    "!./0-node"
   ]
  },
  {
   "cell_type": "code",
   "execution_count": 64,
   "metadata": {},
   "outputs": [],
   "source": [
    "!gcc -Wall -Wextra -Werror -pedantic binary_tree_print.c 1-main.c 1-heap_insert.c 0-binary_tree_node.c -o 1-heap_insert"
   ]
  },
  {
   "cell_type": "code",
   "execution_count": 65,
   "metadata": {},
   "outputs": [
    {
     "name": "stdout",
     "output_type": "stream",
     "text": [
      "Inserted: 98\n",
      "(098)\n",
      "\n",
      "Inserted: 402\n",
      "  .--(402)\n",
      "(098)\n",
      "\n",
      "Inserted: 12\n",
      "  .--(402)--.\n",
      "(098)     (012)\n",
      "\n",
      "Inserted: 46\n",
      "       .--(402)--.\n",
      "  .--(098)     (012)\n",
      "(046)\n",
      "\n",
      "Inserted: 128\n",
      "       .-------(402)--.\n",
      "  .--(128)--.       (012)\n",
      "(046)     (098)\n",
      "\n",
      "Inserted: 256\n",
      "       .-------(402)-------.\n",
      "  .--(128)--.         .--(256)\n",
      "(046)     (098)     (012)\n",
      "\n",
      "Inserted: 512\n",
      "       .-------(512)-------.\n",
      "  .--(128)--.         .--(402)--.\n",
      "(046)     (098)     (012)     (256)\n",
      "\n",
      "Inserted: 50\n",
      "            .-------(512)-------.\n",
      "       .--(128)--.         .--(402)--.\n",
      "  .--(050)     (098)     (012)     (256)\n",
      "(046)\n"
     ]
    }
   ],
   "source": [
    "!./1-heap_insert"
   ]
  },
  {
   "cell_type": "code",
   "execution_count": 14,
   "metadata": {},
   "outputs": [
    {
     "name": "stdout",
     "output_type": "stream",
     "text": [
      "\n",
      "========== 1-heap_insert.c ==========\n",
      "get_a_queue\n",
      "free_queue\n",
      "queue_put\n",
      "swap\n",
      "heap_insert\n"
     ]
    }
   ],
   "source": [
    "!betty 1-heap_insert.c"
   ]
  },
  {
   "cell_type": "code",
   "execution_count": null,
   "metadata": {},
   "outputs": [],
   "source": []
  }
 ],
 "metadata": {
  "kernelspec": {
   "display_name": "Python 3",
   "language": "python",
   "name": "python3"
  },
  "language_info": {
   "codemirror_mode": {
    "name": "ipython",
    "version": 3
   },
   "file_extension": ".py",
   "mimetype": "text/x-python",
   "name": "python",
   "nbconvert_exporter": "python",
   "pygments_lexer": "ipython3",
   "version": "3.7.9"
  }
 },
 "nbformat": 4,
 "nbformat_minor": 4
}
